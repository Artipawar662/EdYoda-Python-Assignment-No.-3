{
 "cells": [
  {
   "cell_type": "code",
   "execution_count": 24,
   "id": "93d787d2",
   "metadata": {},
   "outputs": [
    {
     "name": "stdout",
     "output_type": "stream",
     "text": [
      "20\n"
     ]
    }
   ],
   "source": [
    "#Write a Python function to sum all the numbers in a list.\n",
    "#Sample List : (8, 2, 3, 0, 7)\n",
    "def sum(numbers):\n",
    "    total = 0\n",
    "    for x in numbers:\n",
    "        total += x\n",
    "    return total\n",
    "print(sum((8, 2, 3, 0, 7)))"
   ]
  },
  {
   "cell_type": "code",
   "execution_count": 27,
   "id": "7adc6c54",
   "metadata": {},
   "outputs": [
    {
     "name": "stdout",
     "output_type": "stream",
     "text": [
      "dcba4321\n"
     ]
    }
   ],
   "source": [
    "#Write a Python program to reverse a string.\n",
    "#Sample String : \"1234abcd\"\n",
    "def reverse_string(str1):\n",
    "    rstr1 = ''\n",
    "    index = len(str1)\n",
    "    while index > 0:\n",
    "        rstr1 += str1[ index - 1 ]\n",
    "        index = index - 1\n",
    "    return rstr1\n",
    "print(reverse_string('1234abcd'))"
   ]
  },
  {
   "cell_type": "code",
   "execution_count": 30,
   "id": "61212815",
   "metadata": {},
   "outputs": [
    {
     "name": "stdout",
     "output_type": "stream",
     "text": [
      "Original String :  The quick Brown Fox\n",
      "Uppercase character no. :  3\n",
      "Lowercase character no. :  13\n"
     ]
    }
   ],
   "source": [
    "#Write a Python function that accepts a string and calculate the number of upper case letters and lower case letters.\n",
    "#Sample String : 'The quick Brow Fox\n",
    "def string(s):\n",
    "    d={\"UPPER_CASE\":0, \"LOWER_CASE\":0}\n",
    "    for c in s:\n",
    "        if c.isupper():\n",
    "           d[\"UPPER_CASE\"]+=1\n",
    "        elif c.islower():\n",
    "           d[\"LOWER_CASE\"]+=1\n",
    "        else:\n",
    "           pass\n",
    "    print (\"Original String : \", s)\n",
    "    print (\"Uppercase character no. : \", d[\"UPPER_CASE\"])\n",
    "    print (\"Lowercase character no. : \", d[\"LOWER_CASE\"])\n",
    "\n",
    "string('The quick Brown Fox')\n",
    "\n"
   ]
  }
 ],
 "metadata": {
  "kernelspec": {
   "display_name": "Python 3 (ipykernel)",
   "language": "python",
   "name": "python3"
  },
  "language_info": {
   "codemirror_mode": {
    "name": "ipython",
    "version": 3
   },
   "file_extension": ".py",
   "mimetype": "text/x-python",
   "name": "python",
   "nbconvert_exporter": "python",
   "pygments_lexer": "ipython3",
   "version": "3.8.12"
  }
 },
 "nbformat": 4,
 "nbformat_minor": 5
}
